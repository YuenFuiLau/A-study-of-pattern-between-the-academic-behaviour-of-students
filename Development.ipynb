{
  "nbformat": 4,
  "nbformat_minor": 0,
  "metadata": {
    "colab": {
      "name": "Development.ipynb",
      "provenance": [],
      "collapsed_sections": [],
      "authorship_tag": "ABX9TyNE2Jp2/GnwrU+oD735Ts/0",
      "include_colab_link": true
    },
    "kernelspec": {
      "name": "python3",
      "display_name": "Python 3"
    },
    "language_info": {
      "name": "python"
    },
    "accelerator": "GPU"
  },
  "cells": [
    {
      "cell_type": "markdown",
      "metadata": {
        "id": "view-in-github",
        "colab_type": "text"
      },
      "source": [
        "<a href=\"https://colab.research.google.com/github/Amir-D-Shadow/A-study-of-pattern-between-the-academic-behaviour-of-students/blob/main/Development.ipynb\" target=\"_parent\"><img src=\"https://colab.research.google.com/assets/colab-badge.svg\" alt=\"Open In Colab\"/></a>"
      ]
    },
    {
      "cell_type": "code",
      "metadata": {
        "id": "uQKQdph3A3JT"
      },
      "source": [
        "from numba import cuda,float64,int64\n",
        "import numpy as np\n",
        "import math"
      ],
      "execution_count": 2,
      "outputs": []
    },
    {
      "cell_type": "code",
      "metadata": {
        "id": "PeBFQsqZBL32"
      },
      "source": [
        "@cuda.jit\n",
        "def func(A,B,W,b,stride,Hlim,Wlim,Clim):\n",
        "\n",
        "  x = cuda.threadIdx.x + cuda.blockDim.x * cuda.blockIdx.x\n",
        "  y = cuda.threadIdx.y + cuda.blockDim.y * cuda.blockIdx.y\n",
        "  z = cuda.threadIdx.z +"
      ],
      "execution_count": null,
      "outputs": []
    }
  ]
}