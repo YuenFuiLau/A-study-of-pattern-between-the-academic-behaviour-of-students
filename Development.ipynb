{
  "nbformat": 4,
  "nbformat_minor": 0,
  "metadata": {
    "colab": {
      "name": "Development.ipynb",
      "provenance": [],
      "collapsed_sections": [],
      "authorship_tag": "ABX9TyO7Z0zxNpv1g0zZz4jz3hxu",
      "include_colab_link": true
    },
    "kernelspec": {
      "name": "python3",
      "display_name": "Python 3"
    },
    "language_info": {
      "name": "python"
    },
    "accelerator": "GPU"
  },
  "cells": [
    {
      "cell_type": "markdown",
      "metadata": {
        "id": "view-in-github",
        "colab_type": "text"
      },
      "source": [
        "<a href=\"https://colab.research.google.com/github/Amir-D-Shadow/A-study-of-pattern-between-the-academic-behaviour-of-students/blob/main/Development.ipynb\" target=\"_parent\"><img src=\"https://colab.research.google.com/assets/colab-badge.svg\" alt=\"Open In Colab\"/></a>"
      ]
    },
    {
      "cell_type": "code",
      "metadata": {
        "id": "uQKQdph3A3JT"
      },
      "source": [
        "from numba import cuda,float64,int64\n",
        "import numpy as np\n",
        "import math"
      ],
      "execution_count": 1,
      "outputs": []
    },
    {
      "cell_type": "code",
      "metadata": {
        "id": "PeBFQsqZBL32"
      },
      "source": [
        "@cuda.jit(\"float64[:,:,:],float64[:,:,:],float64[:,:,:,:],int64,int64,int64,int64\")\n",
        "def func(A,dZ,W,stride,Hlim,Wlim,Clim):\n",
        "\n",
        "  \"\"\"\n",
        "  A -- n_H_prev + 2 * opadH, n_W_prev + 2*opadW,n_C_prev\n",
        "  dZ -- n_H,n_W,n_C\n",
        "  W -- fH,fW,n_C_prev,n_C\n",
        "  \"\"\"\n",
        "\n",
        "  n_H = cuda.threadIdx.x + cuda.blockDim.x * cuda.blockIdx.x\n",
        "  n_W = cuda.threadIdx.y + cuda.blockDim.y * cuda.blockIdx.y\n",
        "  n_C = cuda.threadIdx.z + cuda.blockDim.z * cuda.blockIdx.z\n",
        "\n",
        "  if (n_H < Hlim) and (n_W < Wlim) and (n_C < Clim):\n",
        "\n",
        "    fH,fW,n_C_prev,n_C = W.shape\n",
        "\n",
        "    for h in range(fH):\n",
        "\n",
        "      for w in range(fW):\n",
        "\n",
        "        for c in range(n_C_prev):\n",
        "\n",
        "          IMG_H = n_H * stride + h\n",
        "          IMG_W = n_W * stride + w\n",
        "\n",
        "          A[IMG_H,IMG_W,c] = A[IMG_H,IMG_W,c] + W[h,w,c,n_C] * dZ[n_H,n_W,n_C]"
      ],
      "execution_count": 2,
      "outputs": []
    },
    {
      "cell_type": "code",
      "metadata": {
        "colab": {
          "base_uri": "https://localhost:8080/"
        },
        "id": "rNL0z6qOQ1t5",
        "outputId": "e4cdb98f-bb94-4b08-ab23-a5c27640a8a6"
      },
      "source": [
        "opadH,opadW,stride = 2,2,1\n",
        "m = 2\n",
        "number_of_filters = 8\n",
        "\n",
        "tmp = np.ones((m,1,1,3))\n",
        "W = np.ones((2,2,3,number_of_filters))\n",
        "dZ = np.ones((m,2,2,number_of_filters))\n",
        "A = np.pad(tmp,((0,0),(opadH,opadH),(opadW,opadW),(0,0)),mode=\"constant\",constant_values=(0,0))\n",
        "\n",
        "m,n_H,n_W,n_C = dZ.shape \n",
        "\n",
        "threadsperblock = (2,2,8)\n",
        "\n",
        "blockspergrid_H = int(math.ceil(n_H/threadsperblock[0]))\n",
        "blockspergrid_W = int(math.ceil(n_W/threadsperblock[1]))\n",
        "blockspergrid_C = int(math.ceil(n_C/threadsperblock[2]))\n",
        "\n",
        "blockspergrid = (blockspergrid_H,blockspergrid_W,blockspergrid_C)\n",
        "W_device = cuda.to_device(W)\n",
        "\n",
        "for i in range(m):\n",
        "\n",
        "  dZ_device = cuda.to_device(dZ[i,:,:,:].copy())\n",
        "  A_device = cuda.to_device(A[i,:,:,:].copy())\n",
        "\n",
        "  func[blockspergrid,threadsperblock](A_device,dZ_device,W_device,stride,n_H,n_W,n_C)\n",
        "\n",
        "  A[i,:,:,:] = A_device.copy_to_host()\n",
        "\n",
        "\n",
        "res = A[:,opadH:-opadH,opadW:-opadW,:]\n",
        "\n",
        "print(res.shape)\n"
      ],
      "execution_count": 6,
      "outputs": [
        {
          "output_type": "stream",
          "text": [
            "(2, 1, 1, 3)\n"
          ],
          "name": "stdout"
        }
      ]
    }
  ]
}